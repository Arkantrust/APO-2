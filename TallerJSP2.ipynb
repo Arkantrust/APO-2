{
  "nbformat": 4,
  "nbformat_minor": 0,
  "metadata": {
    "colab": {
      "provenance": [],
      "include_colab_link": true
    },
    "kernelspec": {
      "name": "python3",
      "display_name": "Python 3"
    },
    "language_info": {
      "name": "python"
    }
  },
  "cells": [
    {
      "cell_type": "markdown",
      "metadata": {
        "id": "view-in-github",
        "colab_type": "text"
      },
      "source": [
        "<a href=\"https://colab.research.google.com/github/Arkantrust/APO-2/blob/main/TallerJSP2.ipynb\" target=\"_parent\"><img src=\"https://colab.research.google.com/assets/colab-badge.svg\" alt=\"Open In Colab\"/></a>"
      ]
    },
    {
      "cell_type": "markdown",
      "source": [
        "#Problema 1\n",
        "\n",
        "Un avión parte de un aeropuerto ubicado en el origen $O$\n",
        "y vuela a 150 mi en la dirección 20° noreste a la ciudad\n",
        "$A$. De $A$ el avión vuela después 200 mi en la dirección 23°\n",
        "noroeste a la ciudad $B$. De $B$ el avión vuela 240 mi en la\n",
        "dirección 10° suroeste a la ciudad $C$. Exprese la ubicación\n",
        "de la ciudad $C$ como un vector $r$ igual al que se presenta\n",
        "en la FIGURA. Determine la distancia de $O$ a $C$.\n",
        "\n",
        "![](https://drive.google.com/uc?id=1J0BKoTml8bPfxoqPYbyR4QZEVdzB9QDn)\n",
        "\n",
        "\n"
      ],
      "metadata": {
        "id": "pSqGbTb3NYv1"
      }
    },
    {
      "cell_type": "markdown",
      "source": [
        "#Problema 2\n",
        "\n",
        "Un semáforo de 200 lb soportado por dos cables cuelga en\n",
        "equilibrio. Como se ilustra en la FIGURA a), considere\n",
        "que el peso del semáforo está representado por $w$ y las fuerzas\n",
        "en los dos cables por $F_1$ y $F_2$. De la figura c), se\n",
        "observa que una condición de equilibrio es $$ w + F_1 + F_2 = 0. $$\n",
        "\n",
        "![](https://drive.google.com/uc?id=1iYwvQftH_nzj-ELEWu70bZrkZkXeZJDN)\n",
        "\n",
        "Si\n",
        "$$w=(0,-200)$$\n",
        "\n",
        "$$F_1=(\\|F_1\\|\\cos(20^°), \\|F_1\\|\\sin(20^°) )$$ y $$F_2=(\\|F_2\\|\\cos(15^°), \\|F_2\\|\\sin(15^°)),$$\n",
        "determine las magnitudes de $F_1$ y $F_2$.\n"
      ],
      "metadata": {
        "id": "B1nnICR6O9G4"
      }
    },
    {
      "cell_type": "markdown",
      "source": [
        "#Problema 3\n",
        "\n",
        "En los siguientes problemas, los tres puntos dados forman un\n",
        "triángulo. Use los códigos creados en clase para determinar cuáles triángulos son isósceles y cuáles son triángulos rectos.\n",
        "\n",
        "\n",
        "\n",
        "1.   $(0, 0, 0)$, $(3, 6, -6)$, $(2, 1, 2)$\n",
        "2.   $(0, 0, 0)$, $(1, 2, 4)$, $(3, 2, 2\\sqrt{2})$\n",
        "3. $(1, 2, 3)$, $(4, 1, 3)$, $(4, 6, 4)$\n",
        "4. $(1, 1, -1)$, $(1, 1, 1)$, $(0, -1, 1)$\n"
      ],
      "metadata": {
        "id": "KkNxDowHRKLe"
      }
    },
    {
      "cell_type": "markdown",
      "source": [
        "#Problema 4\n",
        "\n",
        "Encuentre la ecuación del plano que contiene al triángulo del item 4 en el problema anterior."
      ],
      "metadata": {
        "id": "7EJU333eSkWq"
      }
    },
    {
      "cell_type": "markdown",
      "source": [
        "#Problema 5\n",
        "\n",
        "Emplee la formula de distancia para demostrar que el punto $M$ con coordenadas $\\Big(\\dfrac{x_1+x_2}{2}, \\dfrac{y_1+y_2}{2}, \\dfrac{z_1+z_2}{2}\\Big)$ es el punto medio del segmento de recta que une los puntos $P$ de coordenadas $(x_1, y_1,z_1)$ y el punto $Q$ con coordenadas $(x_2, y_2, z_2)$. Encuentre la ecuación de la línea recta que es perpendicular al segmento $\\overline{PQ}$ y pasa por el punto medio de este segmento, si $P$ tiene coordenadas $(1, 2, -2)$ y $Q$ coordenadas $(3, 0, 1)$. Es esta recta única? Grafique usando python."
      ],
      "metadata": {
        "id": "oVDqgkGxTYD6"
      }
    },
    {
      "cell_type": "markdown",
      "source": [
        "#Problema 6\n",
        "\n",
        "Encuentre un valor para $c$ de tal forma que el ángulo entre los vectores $(1, c, 2)$ y $(1, 1, 2)$ sea de $\\pi/4$."
      ],
      "metadata": {
        "id": "aU8YLjetV59_"
      }
    },
    {
      "cell_type": "markdown",
      "source": [
        "#Problema 7\n",
        "\n",
        "Use sustituciones adecuadas para convertir cada sistema de ecuaciones no lineal en un sistema lineal y resuelva cada uno de los sistemas, escriba cada sistema lineal en forma matricial.\n",
        "\n",
        "\n",
        "\n",
        "1.   $$x^2+2y^2=6$$ $$x^2-y^2=3$$\n",
        "\n",
        "\n",
        "2.   $$-2^x +2(3^y)=1$$ $$3(2^x)-4(3^y)=1$$\n",
        "\n"
      ],
      "metadata": {
        "id": "q3wklydTflWp"
      }
    },
    {
      "cell_type": "markdown",
      "source": [
        "#Problema 8\n",
        "\n",
        "Una bióloga colocó tres cepas de bacterias (denominadas I, II y III) en un tubo de ensayo, donde se alimentarán de tres diferentes fuentes alimenticias (A, B y C). Cada día, 2300 unidades de A, 800 unidades de B y 1500 unidades de C se colocan en el tubo de ensayo y cada bacteria consume cierto número de unidades de cada alimento por día, como se muestra en la tabla ¿Cuántas bacterias de cada cepa pueden coexistir en el tubo de ensayo y consumir todo el alimento?\n",
        "\n",
        "|  |B I| B II| B III|\n",
        "|-|-|-|-|\n",
        "|Alimento A|2|2|4|\n",
        "|Alimento B|1|2|0|\n",
        "|Alimento C|1|3|1|\n"
      ],
      "metadata": {
        "id": "PX2kUkw0g3Qz"
      }
    },
    {
      "cell_type": "markdown",
      "source": [
        "#Problema 9\n",
        "\n",
        "Un cafetalero vende tres mezclas de café. Una bolsa de la\n",
        "mezcla de la casa contiene 300 gramos de grano colombiano y 200 gramos de grano rostizado francés. Una\n",
        "bolsa de la mezcla especial contiene 200 gramos de\n",
        "grano colombiano, 200 gramos de grano keniano y 100\n",
        "gramos de grano rostizado francés. Una bolsa de mezcla\n",
        "gourmet contiene 100 gramos de grano colombiano,\n",
        "200 gramos de grano keniano y 200 gramos de grano\n",
        "rostizado francés. El comerciante tiene a la mano 30 kilogramos de grano colombiano, 15 kilogramos de grano\n",
        "keniano y 25 kilogramos de grano rostizado francés. Si\n",
        "quiere usar todos los granos, ¿cuántas bolsas de cada\n",
        "tipo de mezcla puede elaborar?\n"
      ],
      "metadata": {
        "id": "RPIGdiwyyjwT"
      }
    },
    {
      "cell_type": "markdown",
      "source": [
        "#Problema 10\n",
        "\n",
        "El proceso de sumar funciones racionales (razones de polinomios) al colocarlos sobre un denominador común es el análogo\n",
        "de sumar números racionales. El proceso inverso, de descomponer una función racional al escribirla como una suma de\n",
        "funciones racionales más simples, es útil en muchas áreas de\n",
        "las matemáticas; por ejemplo, surge en cálculo cuando se debe\n",
        "integrar una función racional y en matemáticas discretas\n",
        "cuando se usan funciones generadoras para resolver relaciones\n",
        "de recurrencia. La descomposición de una función racional\n",
        "como una suma de fracciones parciales conduce a un sistema\n",
        "de ecuaciones lineales. En los ejercicios 47-50, encuentre la\n",
        "descomposición en fracciones parciales de la forma dada. (Las\n",
        "letras mayúsculas denotan constantes.)\n",
        "\n",
        "Descomponga en fracciones parciales las siguientes funciones racionales\n",
        "\n",
        "\n",
        "\n",
        "1.   $$ \\dfrac{3x+1}{x^2+2x-3} = \\dfrac{A}{x-1} +\\dfrac{B}{x+3} $$\n",
        "\n",
        "\n",
        "2.   $$ \\dfrac{x^2-3x+3}{x^3+2x^2+x} = \\dfrac{A}{x} + \\dfrac{B}{x+1} + \\dfrac{C}{(x+1)^2} $$\n",
        "\n",
        "**Ayuda**\n",
        "\n",
        "Se deben encontrar los valores de las constantes $A$, $B$ y $C$ en cada caso, esto se hace sumando las fracciones del lado derecho y después de tener denominadores iguales igualar numeradores.\n",
        "\n"
      ],
      "metadata": {
        "id": "JELIMjDL0QqA"
      }
    },
    {
      "cell_type": "markdown",
      "source": [
        "#Problema 11\n",
        "\n",
        "Use trayectorias y python para determinar si el límite existe o no\n",
        "\n",
        "$$ \\lim_{(x,y)\\to (0,0)}\\dfrac{x^2-3y^2}{x^2+2y^2} $$"
      ],
      "metadata": {
        "id": "v-eMRiBz4Huf"
      }
    },
    {
      "cell_type": "markdown",
      "source": [
        "#Problema 12\n",
        "\n",
        "Use trayectorias y python para determinar si el límite existe o no\n",
        "\n",
        "$$ \\lim_{(x,y)\\to (0,0)}\\dfrac{x^3y}{x^6+y^2} $$"
      ],
      "metadata": {
        "id": "pJR6XbTI4sEk"
      }
    },
    {
      "cell_type": "markdown",
      "source": [
        "#Problema 13\n",
        "\n",
        "Calcule analíticamente y también usando python las derivadas parciales $z_x(1,2)$ y $z_y(1,2)$ para $z=(-x^4+7y^2)^6$"
      ],
      "metadata": {
        "id": "sMS-ijlP5RAe"
      }
    }
  ]
}